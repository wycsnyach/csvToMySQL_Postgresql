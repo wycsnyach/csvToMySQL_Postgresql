{
 "cells": [
  {
   "cell_type": "code",
   "execution_count": 1,
   "id": "b8ccc96b",
   "metadata": {},
   "outputs": [],
   "source": [
    "import csv\n",
    "import psycopg2\n",
    "import os\n",
    "import glob"
   ]
  },
  {
   "cell_type": "code",
   "execution_count": 2,
   "id": "39844959",
   "metadata": {},
   "outputs": [],
   "source": [
    "#pip install psycopg2\n",
    "#csvPath = os.getcwd() \n",
    "#csvPath"
   ]
  },
  {
   "cell_type": "code",
   "execution_count": 3,
   "id": "53547c31",
   "metadata": {},
   "outputs": [],
   "source": [
    "#conn = psycopg2.connect(\"host= localhost port=5432  dbname=csvtopostgresql user= wnn password= Character2\")\n",
    "#print(\"Connecting to Database\")\n",
    "\n",
    "#cur = conn.cursor()\n",
    "#csvPath = os.getcwd() \n"
   ]
  },
  {
   "cell_type": "code",
   "execution_count": 4,
   "id": "99f364b2",
   "metadata": {},
   "outputs": [
    {
     "name": "stdout",
     "output_type": "stream",
     "text": [
      "Connecting to Database\n"
     ]
    }
   ],
   "source": [
    "import pandas as pd\n",
    "import mysql.connector\n",
    "from sqlalchemy import create_engine\n",
    "\n",
    "#pip install pandas mysql-connector-python\n",
    "# MySQL connection parameters\n",
    "host = 'localhost'\n",
    "user = 'your_username'\n",
    "password = 'your_password'\n",
    "database = 'dbase_name'\n",
    "\n",
    "print(\"Connecting to Database\")\n",
    "\n",
    "# Path to your CSV file\n",
    "csv_file_path = '/home/swnn/Documents/workSpace/csvToMySQL_Postgresql/Companies.csv'\n",
    "\n",
    "# Read CSV file into a pandas DataFrame\n",
    "df = pd.read_csv(csv_file_path)\n",
    "\n",
    "# Create a MySQL connection using the MySQL Connector\n",
    "conn = mysql.connector.connect(\n",
    "    host=host,\n",
    "    user=user,\n",
    "    password=password,\n",
    "    database=database\n",
    ")\n",
    "\n",
    "# Create a SQLAlchemy engine\n",
    "engine = create_engine(f\"mysql+mysqlconnector://{user}:{password}@{host}/{database}\")\n",
    "\n",
    "# Write the DataFrame to MySQL\n",
    "df.to_sql(name='company', con=engine, if_exists='replace', index=False)\n",
    "\n",
    "# Close the MySQL connection\n",
    "conn.close()\n"
   ]
  },
  {
   "cell_type": "code",
   "execution_count": null,
   "id": "cc942a01",
   "metadata": {},
   "outputs": [],
   "source": [
    "import pandas as pd\n",
    "import psycopg2\n",
    "from sqlalchemy import create_engine\n",
    "import os\n",
    "\n",
    "# PostgreSQL connection parameters\n",
    "host = 'localhost'\n",
    "user = 'your_username'\n",
    "password = 'your_password'\n",
    "database = 'dbase_name'\n",
    "\n",
    "# Path to your CSV file\n",
    "csv_file_path = '/home/swnn/Documents/workSpace/csvToMySQL_Postgresql/Companies.csv'\n",
    "\n",
    "#csv_file_path = os.getcwd()\n",
    "# Read CSV file into a pandas DataFrame\n",
    "df = pd.read_csv(csv_file_path)\n",
    "\n",
    "# Create a PostgreSQL connection using psycopg2\n",
    "conn = psycopg2.connect(\n",
    "    host=host,\n",
    "    user=user,\n",
    "    password=password,\n",
    "    database=database\n",
    ")\n",
    "\n",
    "# Create a SQLAlchemy engine\n",
    "engine = create_engine(f\"postgresql+psycopg2://{user}:{password}@{host}/{database}\")\n",
    "\n",
    "# Write the DataFrame to PostgreSQL\n",
    "df.to_sql(name='company', con=engine, if_exists='replace', index=False)\n",
    "\n",
    "# Close the PostgreSQL connection\n",
    "conn.close()\n",
    "\n"
   ]
  },
  {
   "cell_type": "code",
   "execution_count": null,
   "id": "94c3badc",
   "metadata": {},
   "outputs": [],
   "source": []
  }
 ],
 "metadata": {
  "kernelspec": {
   "display_name": "Python 3 (ipykernel)",
   "language": "python",
   "name": "python3"
  },
  "language_info": {
   "codemirror_mode": {
    "name": "ipython",
    "version": 3
   },
   "file_extension": ".py",
   "mimetype": "text/x-python",
   "name": "python",
   "nbconvert_exporter": "python",
   "pygments_lexer": "ipython3",
   "version": "3.10.12"
  }
 },
 "nbformat": 4,
 "nbformat_minor": 5
}
